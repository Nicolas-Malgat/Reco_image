{
 "metadata": {
  "language_info": {
   "codemirror_mode": {
    "name": "ipython",
    "version": 3
   },
   "file_extension": ".py",
   "mimetype": "text/x-python",
   "name": "python",
   "nbconvert_exporter": "python",
   "pygments_lexer": "ipython3",
   "version": "3.7.9-final"
  },
  "orig_nbformat": 2,
  "kernelspec": {
   "name": "python3",
   "display_name": "Python 3",
   "language": "python"
  }
 },
 "nbformat": 4,
 "nbformat_minor": 2,
 "cells": [
  {
   "source": [
    "## Import "
   ],
   "cell_type": "markdown",
   "metadata": {}
  },
  {
   "cell_type": "code",
   "execution_count": 1,
   "metadata": {},
   "outputs": [],
   "source": [
    "import tensorflow as tf\n",
    "import cv2\n",
    "from tensorflow.keras.models import Sequential\n",
    "from tensorflow.keras.layers import Conv2D, MaxPooling2D\n",
    "from tensorflow.keras.layers import Activation, Dropout, Flatten, Dense\n",
    "\n",
    "import matplotlib.pyplot as plt"
   ]
  },
  {
   "source": [
    "## Extraction d'un jeu de donnees"
   ],
   "cell_type": "markdown",
   "metadata": {}
  },
  {
   "cell_type": "code",
   "execution_count": 2,
   "metadata": {},
   "outputs": [
    {
     "output_type": "stream",
     "name": "stdout",
     "text": [
      "Successfully created the directory c:\\Users\\utilisateur\\Documents\\datas\\RAW\\train_apple_bee\n",
      "Creation du dossier apple\n",
      "Creation du dossier bee\n"
     ]
    }
   ],
   "source": [
    "from modules.splitting import Splitting\n",
    "\n",
    "Splitting.copie_dossiers(\n",
    "    '../datas/RAW/train',\n",
    "    ['apple', 'bee'],\n",
    "    100,\n",
    "    True\n",
    ")"
   ]
  },
  {
   "source": [
    "## Chargement des images"
   ],
   "cell_type": "markdown",
   "metadata": {}
  },
  {
   "cell_type": "code",
   "execution_count": null,
   "metadata": {},
   "outputs": [],
   "source": [
    "image_data_generator = tf.keras.preprocessing.image.ImageDataGenerator(validation_split=0.2)\n",
    "\n",
    "TRAIN_DATA_DIR = '../datas/RAW/train_apple_bee'\n",
    "TEST_DATA_DIR = '../datas/'\n",
    "# Taille d'image\n",
    "TRAIN_IMAGE_SIZE = 32\n",
    "# NB d'images envoyées à la fois\n",
    "TRAIN_BATCH_SIZE = 64\n",
    "\n",
    "train_generator = image_data_generator.flow_from_directory(\n",
    "    TRAIN_DATA_DIR,\n",
    "    target_size=(TRAIN_IMAGE_SIZE, TRAIN_IMAGE_SIZE),\n",
    "    batch_size=TRAIN_BATCH_SIZE,\n",
    "    class_mode='categorical',\n",
    "    subset='training',\n",
    "    )\n",
    " \n",
    "validation_generator = image_data_generator.flow_from_directory(\n",
    "    TRAIN_DATA_DIR, # same directory as training data\n",
    "    target_size=(TRAIN_IMAGE_SIZE, TRAIN_IMAGE_SIZE),\n",
    "    batch_size=TRAIN_BATCH_SIZE,\n",
    "    class_mode='categorical',\n",
    "    subset='validation')"
   ]
  },
  {
   "source": [
    "## Creation du modele"
   ],
   "cell_type": "markdown",
   "metadata": {}
  },
  {
   "cell_type": "code",
   "execution_count": null,
   "metadata": {},
   "outputs": [],
   "source": [
    "model = Sequential()\n",
    "\n",
    "model.add(Conv2D(32, kernel_size=3, activation='relu'))\n",
    "model.add(Conv2D(64, kernel_size=7, activation='relu'))\n",
    "\n",
    "# model.add(Dense())\n",
    "# model.add(MaxPooling2D())\n",
    "\n",
    "model.add(Flatten())\n",
    "model.add(Dense(2, activation='softmax'))\n",
    "\n",
    "model.summary()"
   ]
  },
  {
   "cell_type": "code",
   "execution_count": null,
   "metadata": {},
   "outputs": [],
   "source": [
    "model.compile(optimizer='adam', loss='categorical_crossentropy', metrics=['accuracy'])\n",
    "\n",
    "training = model.fit_generator(train_generator, epochs=8, validation_data=validation_generator, verbose=1)"
   ]
  },
  {
   "cell_type": "code",
   "execution_count": null,
   "metadata": {},
   "outputs": [],
   "source": [
    "plt.plot(training.history['loss'], color='red', label='Training loss')\n",
    "plt.plot(training.history['val_loss'],  color='green', label='Validation loss')\n",
    "\n",
    "plt.xlabel('Epochs')\n",
    "plt.ylabel('Loss')\n",
    "\n",
    "plt.show()"
   ]
  },
  {
   "cell_type": "code",
   "execution_count": null,
   "metadata": {},
   "outputs": [],
   "source": [
    "from modules.observation_modele import plot_layer\n",
    "\n",
    "plot_layer(model, \"../datas/RAW/train/apple/0020.png\", 1, cmap=\"inferno\")"
   ]
  }
 ]
}