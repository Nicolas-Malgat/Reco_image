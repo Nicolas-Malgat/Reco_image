{
 "metadata": {
  "language_info": {
   "codemirror_mode": {
    "name": "ipython",
    "version": 3
   },
   "file_extension": ".py",
   "mimetype": "text/x-python",
   "name": "python",
   "nbconvert_exporter": "python",
   "pygments_lexer": "ipython3",
   "version": "3.7.9-final"
  },
  "orig_nbformat": 2,
  "kernelspec": {
   "name": "python3",
   "display_name": "Python 3",
   "language": "python"
  }
 },
 "nbformat": 4,
 "nbformat_minor": 2,
 "cells": [
  {
   "source": [
    "## Import"
   ],
   "cell_type": "markdown",
   "metadata": {}
  },
  {
   "cell_type": "code",
   "execution_count": 1,
   "metadata": {},
   "outputs": [],
   "source": [
    "from tensorflow.keras.preprocessing import image\n",
    "from tensorflow.keras.models import load_model\n",
    "import numpy as np\n",
    "import cv2\n",
    "\n",
    "from modules.prediction_image import resize_image, evaluate, stackImages, getContours, empty\n",
    "\n",
    "model = load_model('model.h5')"
   ]
  },
  {
   "source": [
    "## Test du modele"
   ],
   "cell_type": "markdown",
   "metadata": {}
  },
  {
   "cell_type": "code",
   "execution_count": 2,
   "metadata": {},
   "outputs": [],
   "source": [
    "# model = load_model('model.h5')\n",
    "\n",
    "# labels_array = ['apple', 'bee']\n",
    "# choix = [\n",
    "#     'assets/apple/0001.png'\n",
    "#     , 'assets/apple/0002.png'\n",
    "#     , 'assets/apple/0003.png'\n",
    "#     , 'assets/apple/0004.png'\n",
    "#     , 'assets/apple/0005.png'\n",
    "#     , 'assets/bee/0001.png'\n",
    "#     , 'assets/bee/0002.png'\n",
    "#     , 'assets/bee/0003.png'\n",
    "#     , 'assets/bee/0004.png'\n",
    "#     , 'assets/bee/0005.png'\n",
    "# ]\n",
    "\n",
    "# for c in choix:\n",
    "#     test_image = image.load_img(c, target_size = (32, 32))\n",
    "#     test_image = image.img_to_array(test_image)\n",
    "#     test_image = np.expand_dims(test_image, axis = 0)\n",
    "#     result = model.predict(test_image)\n",
    "\n",
    "#     preds = model.predict_classes(test_image)\n",
    "#     prob = model.predict_proba(test_image)\n",
    "\n",
    "#     index = preds[0]\n",
    "#     img = c.split('/')[-1]\n",
    "#     print(f'Img {img}. Cet objet est un(e) \"{labels_array[index]}\".')\n",
    "\n",
    "#     prob_sort = np.argsort(prob[0])[-2:]\n",
    "\n",
    "#     for ps in prob_sort:\n",
    "#         proba = prob[0][ps]\n",
    "#         label = labels_array[ps]\n",
    "#         print(f'{label}:\\t', round(proba, 3) )\n",
    "\n",
    "#     print()"
   ]
  },
  {
   "source": [
    "## Detection d'objet avec openCV"
   ],
   "cell_type": "markdown",
   "metadata": {}
  },
  {
   "cell_type": "code",
   "execution_count": 3,
   "metadata": {},
   "outputs": [],
   "source": [
    "path = \"assets/image_internet/\"\n",
    "\n",
    "img_originale = cv2.imread(path + \"pomme_abeille.jpg\")\n",
    "\n",
    "Threshold1 = 80\n",
    "Threshold2 = 80\n",
    "AreaMin = 850\n",
    "AreaMax = 40000"
   ]
  },
  {
   "cell_type": "code",
   "execution_count": 38,
   "metadata": {},
   "outputs": [
    {
     "output_type": "stream",
     "name": "stdout",
     "text": [
      "(1390, 1300, 3)\n8.0\n(10400, 11120)\n"
     ]
    }
   ],
   "source": [
    "img_originale = cv2.imread(path + \"pomme_abeille.jpg\")\n",
    "\n",
    "from math import sqrt\n",
    "\n",
    "print(img_originale.shape)\n",
    "area = img_originale.shape[0] * img_originale.shape[1]\n",
    "ratio = sqrt( (800*800) / area )\n",
    "print(ratio)\n",
    "dim = round(img_originale.shape[1] * ratio), round(img_originale.shape[0] * ratio)\n",
    "print(dim)\n",
    "# img_originale = cv2.resize(img_originale, dim)\n",
    "# print(img_originale.shape)\n",
    "\n",
    "# cv2.imshow(\"image\", img_originale)\n",
    "# cv2.waitKey()\n",
    "# cv2.destroyWindow(\"image\")\n",
    "\n",
    "# img_originale.shape[0] * img_originale.shape[1]"
   ]
  },
  {
   "cell_type": "code",
   "execution_count": 7,
   "metadata": {
    "tags": []
   },
   "outputs": [],
   "source": [
    "img_traite = img_originale.copy()\n",
    "\n",
    "imgBlur = cv2.GaussianBlur(img_traite, (9, 9), 1)\n",
    "imgCanny = cv2.Canny(img_traite, Threshold1, Threshold2)\n",
    "kernel = np.ones((5, 5))\n",
    "imgDil = cv2.dilate(imgCanny, kernel, iterations=1)\n",
    "\n",
    "contours = cv2.findContours(imgCanny, cv2.RETR_EXTERNAL, cv2.CHAIN_APPROX_SIMPLE)\n",
    "contours = contours[0] if len(contours) == 2 else contours[1]\n",
    "contours = [cnt for cnt in contours if cv2.contourArea(cnt) > AreaMin and cv2.contourArea(cnt) < AreaMax]\n",
    "\n",
    "img_affichage = img_traite.copy()\n",
    "\n",
    "for cnt in contours:\n",
    "    x, y, w, h = cv2.boundingRect(cnt)\n",
    "\n",
    "    img = img_traite[y:y+h, x:x+w]\n",
    "\n",
    "    img = resize_image(img)\n",
    "\n",
    "    predictions = list()\n",
    "    label = evaluate(model, img)\n",
    "\n",
    "    cv2.putText(img_affichage, label, (x-10, y-10), cv2.FONT_HERSHEY_SIMPLEX, 1, (0, 255, 0), 3, cv2.LINE_AA)\n",
    "    cv2.rectangle(img_affichage, (x , y ), (x + w , y + h ), (0, 0, 255), 5)\n",
    "\n",
    "\n",
    "cv2.imshow(\"image\", img_affichage)\n",
    "cv2.waitKey()\n",
    "cv2.destroyWindow(\"image\")"
   ]
  },
  {
   "source": [
    "## Reglages sur l'image"
   ],
   "cell_type": "markdown",
   "metadata": {}
  },
  {
   "cell_type": "code",
   "execution_count": 6,
   "metadata": {},
   "outputs": [],
   "source": [
    "cv2.namedWindow(\"Parameters\")\n",
    "cv2.resizeWindow(\"Parameters\", 640, 240)\n",
    "cv2.createTrackbar(\"Threshold1\", \"Parameters\",   Threshold1, 255, empty)\n",
    "cv2.createTrackbar(\"Threshold2\", \"Parameters\",   Threshold2, 255, empty)\n",
    "cv2.createTrackbar(\"AreaMin\", \"Parameters\",      AreaMin, 3000, empty)\n",
    "cv2.createTrackbar(\"AreaMax\", \"Parameters\",      AreaMax, 50000, empty)\n",
    "\n",
    "img = img_originale\n",
    "\n",
    "while True:\n",
    "\n",
    "    imgContour = img.copy()\n",
    "    imgBlur = cv2.GaussianBlur(img, (9, 9), 1)\n",
    "    threshold1 = cv2.getTrackbarPos(\"Threshold1\", \"Parameters\")\n",
    "    threshold2 = cv2.getTrackbarPos(\"Threshold2\", \"Parameters\")\n",
    "    imgCanny = cv2.Canny(imgContour, threshold1, threshold2)\n",
    "    kernel = np.ones((5, 5))\n",
    "    imgDil = cv2.dilate(imgCanny, kernel, iterations=1)\n",
    "    getContours(imgCanny, imgContour)\n",
    "    imgStack = stackImages(0.8, ([img,imgCanny], [imgDil,imgContour]) )\n",
    "\n",
    "    cv2.imshow(\"Result\", imgStack)\n",
    "    if cv2.waitKey(1) & 0xFF == ord('q'):\n",
    "        break\n",
    "\n",
    "cv2.destroyAllWindows()"
   ]
  }
 ]
}